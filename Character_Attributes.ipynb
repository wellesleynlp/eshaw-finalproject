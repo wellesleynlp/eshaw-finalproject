{
 "cells": [
  {
   "cell_type": "code",
   "execution_count": 1,
   "metadata": {
    "collapsed": false
   },
   "outputs": [
    {
     "name": "stdout",
     "output_type": "stream",
     "text": [
      "19\n"
     ]
    }
   ],
   "source": [
    "import collections\n",
    "import numpy as np\n",
    "import csv\n",
    "import os\n",
    "import nltk\n",
    "import re\n",
    "\n",
    "list_of_characters=[]\n",
    "charact_vocab = collections.defaultdict(list)\n",
    "tagged_vocab = collections.defaultdict(list)\n",
    "charact_sents = collections.defaultdict(list)\n",
    "charact_attrs = collections.defaultdict(list)\n",
    "charact_mods = collections.defaultdict(list)\n",
    "attrsets = collections.defaultdict(list)\n",
    "modsets = collections.defaultdict(list)\n",
    "all_tags = set()\n",
    "\n",
    "for subdir, dirs, files in os.walk('/home/eshaw/Documents/NLP/eshaw2-finalproject/txt'):\n",
    "    print len(files)\n",
    "    for file in files:\n",
    "        character_name = file[0:-15]\n",
    "        list_of_characters.append(character_name)\n",
    "        file_path = subdir + os.path.sep + file\n",
    "        shakes = open(file_path, 'r')\n",
    "        corpus = shakes.read()\n",
    "        charact_vocab[character_name] = corpus.split(\" \")\n",
    "        tagged_vocab[character_name] = nltk.pos_tag(corpus.split(\" \"))\n",
    "        charact_sents[character_name] = re.split('[?!;.:]',corpus)\n",
    "        del charact_sents[character_name][-1]\n",
    "        \n",
    "        attrs = []\n",
    "        mods = []\n",
    "        for pair in tagged_vocab[character_name]:\n",
    "            word, tag = pair\n",
    "#             all_tags.add(tag)\n",
    "            if re.search('JJ', tag) or re.search('NN', tag):\n",
    "                attrs.append(word)\n",
    "            if re.search('JJ', tag) or re.search('RB', tag):\n",
    "                mods.append(word)\n",
    "        charact_attrs[character_name] = attrs\n",
    "        attrsets[character_name] = set(attrs)\n",
    "        charact_mods[character_name] = mods\n",
    "        modsets[character_name] = set(mods)\n",
    "# print charact_vocab['BOTTOM']"
   ]
  },
  {
   "cell_type": "code",
   "execution_count": 2,
   "metadata": {
    "collapsed": false
   },
   "outputs": [],
   "source": [
    "import jsonrpc\n",
    "from simplejson import loads\n",
    "server = jsonrpc.ServerProxy(jsonrpc.JsonRpc20(),jsonrpc.TransportTcpIp(addr=(\"127.0.0.1\", 8080)))"
   ]
  },
  {
   "cell_type": "code",
   "execution_count": 7,
   "metadata": {
    "collapsed": false,
    "scrolled": true
   },
   "outputs": [
    {
     "name": "stdout",
     "output_type": "stream",
     "text": [
      "TITANIA\n",
      "FLUTE\n",
      "BOTTOM\n",
      "Wall\n",
      "OBERON\n",
      "PHILOSTRATE\n",
      "EGEUS\n",
      "HELENA\n",
      "Thisbe\n",
      "QUINCE\n",
      "Pyramus\n",
      "HERMIA\n",
      "THESEUS\n",
      "LYSANDER\n",
      "Prologue\n",
      "PUCK\n",
      "HIPPOLYTA\n",
      "DEMETRIUS\n",
      "Fairy\n"
     ]
    }
   ],
   "source": [
    "mod_types = collections.defaultdict(list)\n",
    "attr_tags = set(['nsubj','appos','amod','nn'])\n",
    "mod_tags = set(['acomp','advmod','prepc','tmod','xcomp'])\n",
    "# tags = set()\n",
    "\n",
    "char_dep = np.zeros((len(list_of_characters),2))\n",
    "# char_dep = collections.defaultdict(list)\n",
    "for c,character in enumerate(list_of_characters):\n",
    "    print character\n",
    "#     attr_count = 0\n",
    "#     mod_count = 0\n",
    "    cur_attrset = attrsets[character]\n",
    "    cur_modset = modsets[character]\n",
    "    for s, sentence in enumerate(charact_sents[character]):\n",
    "#         print s\n",
    "        result = loads(server.parse(sentence))\n",
    "        for relation in result['sentences'][0]['dependencies']:\n",
    "            if (relation[1] in cur_attrset) or (relation[2] in cur_attrset):\n",
    "                if relation[0] in attr_tags:\n",
    "                    char_dep[c,0] += 1\n",
    "#                     attr_count += 1\n",
    "            if (relation[1] in cur_modset) or (relation[2] in cur_modset):\n",
    "                if relation[0] in mod_tags:\n",
    "                    char_dep[c,1] += 1\n",
    "#                     mod_count += 1\n",
    "    #             tags.update([relation[0]])\n",
    "#     mod_types[c:] = {'Attributes': attr_count,'Modifiers': mod_count}\n",
    "\n",
    "# verb_types"
   ]
  },
  {
   "cell_type": "code",
   "execution_count": 8,
   "metadata": {
    "collapsed": false
   },
   "outputs": [
    {
     "data": {
      "text/plain": [
       "array([[ 195.,   44.],\n",
       "       [  30.,    9.],\n",
       "       [ 243.,   65.],\n",
       "       [  16.,   10.],\n",
       "       [ 255.,   77.],\n",
       "       [  34.,   10.],\n",
       "       [  53.,    5.],\n",
       "       [ 253.,  109.],\n",
       "       [  38.,    4.],\n",
       "       [  82.,   23.],\n",
       "       [  78.,   22.],\n",
       "       [ 182.,  104.],\n",
       "       [ 237.,   69.],\n",
       "       [ 180.,   88.],\n",
       "       [  50.,    9.],\n",
       "       [ 204.,   85.],\n",
       "       [  35.,   10.],\n",
       "       [ 155.,   59.],\n",
       "       [  27.,    8.]])"
      ]
     },
     "execution_count": 8,
     "metadata": {},
     "output_type": "execute_result"
    }
   ],
   "source": [
    "char_dep"
   ]
  },
  {
   "cell_type": "code",
   "execution_count": 10,
   "metadata": {
    "collapsed": true
   },
   "outputs": [],
   "source": [
    "np.savetxt('/home/eshaw/Documents/NLP/eshaw2-finalproject/dream_mod_types.txt', char_dep)"
   ]
  },
  {
   "cell_type": "code",
   "execution_count": 6,
   "metadata": {
    "collapsed": false
   },
   "outputs": [],
   "source": [
    "# saved_verb_types = mod_types\n",
    "\n",
    "with open('/home/eshaw/Documents/NLP/eshaw2-finalproject/dream_mod_types.csv', 'wb') as f:\n",
    "    w = csv.DictWriter(f, mod_types.keys())\n",
    "    w.writeheader()\n",
    "    w.writerow(mod_types)"
   ]
  },
  {
   "cell_type": "code",
   "execution_count": null,
   "metadata": {
    "collapsed": true
   },
   "outputs": [],
   "source": []
  }
 ],
 "metadata": {
  "kernelspec": {
   "display_name": "Python 2",
   "language": "python",
   "name": "python2"
  },
  "language_info": {
   "codemirror_mode": {
    "name": "ipython",
    "version": 2
   },
   "file_extension": ".py",
   "mimetype": "text/x-python",
   "name": "python",
   "nbconvert_exporter": "python",
   "pygments_lexer": "ipython2",
   "version": "2.7.11"
  }
 },
 "nbformat": 4,
 "nbformat_minor": 0
}
